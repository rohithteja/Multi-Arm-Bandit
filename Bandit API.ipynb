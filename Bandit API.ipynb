{
 "cells": [
  {
   "cell_type": "code",
   "execution_count": 1,
   "metadata": {},
   "outputs": [
    {
     "name": "stdout",
     "output_type": "stream",
     "text": [
      "Populating the interactive namespace from numpy and matplotlib\n"
     ]
    }
   ],
   "source": [
    "%pylab inline\n",
    "import pandas as pd\n",
    "from collections import defaultdict"
   ]
  },
  {
   "cell_type": "code",
   "execution_count": 2,
   "metadata": {
    "scrolled": true
   },
   "outputs": [
    {
     "name": "stderr",
     "output_type": "stream",
     "text": [
      "UsageError: Line magic function `%cat` not found.\n"
     ]
    }
   ],
   "source": [
    "%cat data/univ-latencies/license.txt"
   ]
  },
  {
   "cell_type": "code",
   "execution_count": 3,
   "metadata": {},
   "outputs": [],
   "source": [
    "df = pd.read_csv('data/univ-latencies/univ-latencies.txt')"
   ]
  },
  {
   "cell_type": "code",
   "execution_count": 24,
   "metadata": {
    "scrolled": true
   },
   "outputs": [
    {
     "data": {
      "text/html": [
       "<div>\n",
       "<style scoped>\n",
       "    .dataframe tbody tr th:only-of-type {\n",
       "        vertical-align: middle;\n",
       "    }\n",
       "\n",
       "    .dataframe tbody tr th {\n",
       "        vertical-align: top;\n",
       "    }\n",
       "\n",
       "    .dataframe thead th {\n",
       "        text-align: right;\n",
       "    }\n",
       "</style>\n",
       "<table border=\"1\" class=\"dataframe\">\n",
       "  <thead>\n",
       "    <tr style=\"text-align: right;\">\n",
       "      <th></th>\n",
       "      <th>acu-edu</th>\n",
       "      <th>acadiau-ca</th>\n",
       "      <th>adrian-edu</th>\n",
       "      <th>agnesscott-edu</th>\n",
       "      <th>aims-edu</th>\n",
       "      <th>uni-freiburg-de</th>\n",
       "      <th>alfred-edu</th>\n",
       "      <th>alvernia-edu</th>\n",
       "      <th>alverno-edu</th>\n",
       "      <th>american-edu</th>\n",
       "      <th>...</th>\n",
       "      <th>williams-edu</th>\n",
       "      <th>wsc-nodak-edu</th>\n",
       "      <th>winona-msus-edu</th>\n",
       "      <th>wpi-edu</th>\n",
       "      <th>wright-edu</th>\n",
       "      <th>yale-edu</th>\n",
       "      <th>yu-edu</th>\n",
       "      <th>yorku-ca</th>\n",
       "      <th>upenn-edu</th>\n",
       "      <th>ens-fr</th>\n",
       "    </tr>\n",
       "  </thead>\n",
       "  <tbody>\n",
       "    <tr>\n",
       "      <th>0</th>\n",
       "      <td>396</td>\n",
       "      <td>381</td>\n",
       "      <td>488</td>\n",
       "      <td>506</td>\n",
       "      <td>333</td>\n",
       "      <td>1327</td>\n",
       "      <td>132</td>\n",
       "      <td>70</td>\n",
       "      <td>456</td>\n",
       "      <td>121</td>\n",
       "      <td>...</td>\n",
       "      <td>220</td>\n",
       "      <td>1898</td>\n",
       "      <td>434</td>\n",
       "      <td>125</td>\n",
       "      <td>304</td>\n",
       "      <td>94</td>\n",
       "      <td>460</td>\n",
       "      <td>347</td>\n",
       "      <td>532</td>\n",
       "      <td>429</td>\n",
       "    </tr>\n",
       "    <tr>\n",
       "      <th>1</th>\n",
       "      <td>271</td>\n",
       "      <td>261</td>\n",
       "      <td>488</td>\n",
       "      <td>504</td>\n",
       "      <td>276</td>\n",
       "      <td>1084</td>\n",
       "      <td>89</td>\n",
       "      <td>23</td>\n",
       "      <td>409</td>\n",
       "      <td>34</td>\n",
       "      <td>...</td>\n",
       "      <td>263</td>\n",
       "      <td>1032</td>\n",
       "      <td>294</td>\n",
       "      <td>74</td>\n",
       "      <td>269</td>\n",
       "      <td>252</td>\n",
       "      <td>98</td>\n",
       "      <td>265</td>\n",
       "      <td>233</td>\n",
       "      <td>293</td>\n",
       "    </tr>\n",
       "    <tr>\n",
       "      <th>2</th>\n",
       "      <td>271</td>\n",
       "      <td>141</td>\n",
       "      <td>325</td>\n",
       "      <td>545</td>\n",
       "      <td>266</td>\n",
       "      <td>1078</td>\n",
       "      <td>86</td>\n",
       "      <td>27</td>\n",
       "      <td>837</td>\n",
       "      <td>33</td>\n",
       "      <td>...</td>\n",
       "      <td>409</td>\n",
       "      <td>891</td>\n",
       "      <td>292</td>\n",
       "      <td>77</td>\n",
       "      <td>288</td>\n",
       "      <td>41</td>\n",
       "      <td>78</td>\n",
       "      <td>261</td>\n",
       "      <td>114</td>\n",
       "      <td>300</td>\n",
       "    </tr>\n",
       "    <tr>\n",
       "      <th>3</th>\n",
       "      <td>268</td>\n",
       "      <td>136</td>\n",
       "      <td>324</td>\n",
       "      <td>1946</td>\n",
       "      <td>331</td>\n",
       "      <td>1342</td>\n",
       "      <td>88</td>\n",
       "      <td>24</td>\n",
       "      <td>531</td>\n",
       "      <td>35</td>\n",
       "      <td>...</td>\n",
       "      <td>361</td>\n",
       "      <td>421</td>\n",
       "      <td>298</td>\n",
       "      <td>76</td>\n",
       "      <td>228</td>\n",
       "      <td>42</td>\n",
       "      <td>153</td>\n",
       "      <td>266</td>\n",
       "      <td>322</td>\n",
       "      <td>532</td>\n",
       "    </tr>\n",
       "    <tr>\n",
       "      <th>4</th>\n",
       "      <td>273</td>\n",
       "      <td>136</td>\n",
       "      <td>321</td>\n",
       "      <td>549</td>\n",
       "      <td>290</td>\n",
       "      <td>1192</td>\n",
       "      <td>143</td>\n",
       "      <td>26</td>\n",
       "      <td>434</td>\n",
       "      <td>32</td>\n",
       "      <td>...</td>\n",
       "      <td>982</td>\n",
       "      <td>522</td>\n",
       "      <td>296</td>\n",
       "      <td>73</td>\n",
       "      <td>764</td>\n",
       "      <td>41</td>\n",
       "      <td>98</td>\n",
       "      <td>262</td>\n",
       "      <td>234</td>\n",
       "      <td>271</td>\n",
       "    </tr>\n",
       "    <tr>\n",
       "      <th>...</th>\n",
       "      <td>...</td>\n",
       "      <td>...</td>\n",
       "      <td>...</td>\n",
       "      <td>...</td>\n",
       "      <td>...</td>\n",
       "      <td>...</td>\n",
       "      <td>...</td>\n",
       "      <td>...</td>\n",
       "      <td>...</td>\n",
       "      <td>...</td>\n",
       "      <td>...</td>\n",
       "      <td>...</td>\n",
       "      <td>...</td>\n",
       "      <td>...</td>\n",
       "      <td>...</td>\n",
       "      <td>...</td>\n",
       "      <td>...</td>\n",
       "      <td>...</td>\n",
       "      <td>...</td>\n",
       "      <td>...</td>\n",
       "      <td>...</td>\n",
       "    </tr>\n",
       "    <tr>\n",
       "      <th>1356</th>\n",
       "      <td>285</td>\n",
       "      <td>136</td>\n",
       "      <td>284</td>\n",
       "      <td>352</td>\n",
       "      <td>257</td>\n",
       "      <td>1058</td>\n",
       "      <td>84</td>\n",
       "      <td>23</td>\n",
       "      <td>418</td>\n",
       "      <td>646</td>\n",
       "      <td>...</td>\n",
       "      <td>137</td>\n",
       "      <td>888</td>\n",
       "      <td>301</td>\n",
       "      <td>71</td>\n",
       "      <td>196</td>\n",
       "      <td>40</td>\n",
       "      <td>95</td>\n",
       "      <td>244</td>\n",
       "      <td>151</td>\n",
       "      <td>297</td>\n",
       "    </tr>\n",
       "    <tr>\n",
       "      <th>1357</th>\n",
       "      <td>282</td>\n",
       "      <td>137</td>\n",
       "      <td>286</td>\n",
       "      <td>380</td>\n",
       "      <td>257</td>\n",
       "      <td>4723</td>\n",
       "      <td>108</td>\n",
       "      <td>24</td>\n",
       "      <td>399</td>\n",
       "      <td>33</td>\n",
       "      <td>...</td>\n",
       "      <td>138</td>\n",
       "      <td>442</td>\n",
       "      <td>291</td>\n",
       "      <td>72</td>\n",
       "      <td>197</td>\n",
       "      <td>39</td>\n",
       "      <td>85</td>\n",
       "      <td>261</td>\n",
       "      <td>138</td>\n",
       "      <td>260</td>\n",
       "    </tr>\n",
       "    <tr>\n",
       "      <th>1358</th>\n",
       "      <td>263</td>\n",
       "      <td>137</td>\n",
       "      <td>285</td>\n",
       "      <td>317</td>\n",
       "      <td>258</td>\n",
       "      <td>1756</td>\n",
       "      <td>85</td>\n",
       "      <td>24</td>\n",
       "      <td>394</td>\n",
       "      <td>33</td>\n",
       "      <td>...</td>\n",
       "      <td>132</td>\n",
       "      <td>339</td>\n",
       "      <td>299</td>\n",
       "      <td>90</td>\n",
       "      <td>196</td>\n",
       "      <td>40</td>\n",
       "      <td>80</td>\n",
       "      <td>246</td>\n",
       "      <td>139</td>\n",
       "      <td>261</td>\n",
       "    </tr>\n",
       "    <tr>\n",
       "      <th>1359</th>\n",
       "      <td>266</td>\n",
       "      <td>136</td>\n",
       "      <td>349</td>\n",
       "      <td>364</td>\n",
       "      <td>264</td>\n",
       "      <td>1078</td>\n",
       "      <td>83</td>\n",
       "      <td>23</td>\n",
       "      <td>630</td>\n",
       "      <td>33</td>\n",
       "      <td>...</td>\n",
       "      <td>141</td>\n",
       "      <td>366</td>\n",
       "      <td>293</td>\n",
       "      <td>98</td>\n",
       "      <td>197</td>\n",
       "      <td>39</td>\n",
       "      <td>154</td>\n",
       "      <td>261</td>\n",
       "      <td>148</td>\n",
       "      <td>274</td>\n",
       "    </tr>\n",
       "    <tr>\n",
       "      <th>1360</th>\n",
       "      <td>265</td>\n",
       "      <td>137</td>\n",
       "      <td>286</td>\n",
       "      <td>366</td>\n",
       "      <td>254</td>\n",
       "      <td>1088</td>\n",
       "      <td>1076</td>\n",
       "      <td>24</td>\n",
       "      <td>391</td>\n",
       "      <td>33</td>\n",
       "      <td>...</td>\n",
       "      <td>132</td>\n",
       "      <td>233</td>\n",
       "      <td>293</td>\n",
       "      <td>72</td>\n",
       "      <td>200</td>\n",
       "      <td>41</td>\n",
       "      <td>106</td>\n",
       "      <td>244</td>\n",
       "      <td>148</td>\n",
       "      <td>268</td>\n",
       "    </tr>\n",
       "  </tbody>\n",
       "</table>\n",
       "<p>1361 rows × 760 columns</p>\n",
       "</div>"
      ],
      "text/plain": [
       "      acu-edu   acadiau-ca   adrian-edu   agnesscott-edu   aims-edu  \\\n",
       "0         396          381          488              506        333   \n",
       "1         271          261          488              504        276   \n",
       "2         271          141          325              545        266   \n",
       "3         268          136          324             1946        331   \n",
       "4         273          136          321              549        290   \n",
       "...       ...          ...          ...              ...        ...   \n",
       "1356      285          136          284              352        257   \n",
       "1357      282          137          286              380        257   \n",
       "1358      263          137          285              317        258   \n",
       "1359      266          136          349              364        264   \n",
       "1360      265          137          286              366        254   \n",
       "\n",
       "       uni-freiburg-de   alfred-edu   alvernia-edu   alverno-edu  \\\n",
       "0                 1327          132             70           456   \n",
       "1                 1084           89             23           409   \n",
       "2                 1078           86             27           837   \n",
       "3                 1342           88             24           531   \n",
       "4                 1192          143             26           434   \n",
       "...                ...          ...            ...           ...   \n",
       "1356              1058           84             23           418   \n",
       "1357              4723          108             24           399   \n",
       "1358              1756           85             24           394   \n",
       "1359              1078           83             23           630   \n",
       "1360              1088         1076             24           391   \n",
       "\n",
       "       american-edu  ...   williams-edu   wsc-nodak-edu   winona-msus-edu  \\\n",
       "0               121  ...            220            1898               434   \n",
       "1                34  ...            263            1032               294   \n",
       "2                33  ...            409             891               292   \n",
       "3                35  ...            361             421               298   \n",
       "4                32  ...            982             522               296   \n",
       "...             ...  ...            ...             ...               ...   \n",
       "1356            646  ...            137             888               301   \n",
       "1357             33  ...            138             442               291   \n",
       "1358             33  ...            132             339               299   \n",
       "1359             33  ...            141             366               293   \n",
       "1360             33  ...            132             233               293   \n",
       "\n",
       "       wpi-edu   wright-edu   yale-edu   yu-edu   yorku-ca   upenn-edu  \\\n",
       "0          125          304         94      460        347         532   \n",
       "1           74          269        252       98        265         233   \n",
       "2           77          288         41       78        261         114   \n",
       "3           76          228         42      153        266         322   \n",
       "4           73          764         41       98        262         234   \n",
       "...        ...          ...        ...      ...        ...         ...   \n",
       "1356        71          196         40       95        244         151   \n",
       "1357        72          197         39       85        261         138   \n",
       "1358        90          196         40       80        246         139   \n",
       "1359        98          197         39      154        261         148   \n",
       "1360        72          200         41      106        244         148   \n",
       "\n",
       "       ens-fr  \n",
       "0         429  \n",
       "1         293  \n",
       "2         300  \n",
       "3         532  \n",
       "4         271  \n",
       "...       ...  \n",
       "1356      297  \n",
       "1357      260  \n",
       "1358      261  \n",
       "1359      274  \n",
       "1360      268  \n",
       "\n",
       "[1361 rows x 760 columns]"
      ]
     },
     "execution_count": 24,
     "metadata": {},
     "output_type": "execute_result"
    }
   ],
   "source": [
    "df"
   ]
  },
  {
   "cell_type": "code",
   "execution_count": 4,
   "metadata": {},
   "outputs": [
    {
     "name": "stdout",
     "output_type": "stream",
     "text": [
      "Latency of some homepages in the first timesteps\n"
     ]
    },
    {
     "data": {
      "text/html": [
       "<div>\n",
       "<style scoped>\n",
       "    .dataframe tbody tr th:only-of-type {\n",
       "        vertical-align: middle;\n",
       "    }\n",
       "\n",
       "    .dataframe tbody tr th {\n",
       "        vertical-align: top;\n",
       "    }\n",
       "\n",
       "    .dataframe thead th {\n",
       "        text-align: right;\n",
       "    }\n",
       "</style>\n",
       "<table border=\"1\" class=\"dataframe\">\n",
       "  <thead>\n",
       "    <tr style=\"text-align: right;\">\n",
       "      <th></th>\n",
       "      <th>acu-edu</th>\n",
       "      <th>acadiau-ca</th>\n",
       "      <th>adrian-edu</th>\n",
       "      <th>agnesscott-edu</th>\n",
       "      <th>aims-edu</th>\n",
       "    </tr>\n",
       "  </thead>\n",
       "  <tbody>\n",
       "    <tr>\n",
       "      <th>0</th>\n",
       "      <td>396</td>\n",
       "      <td>381</td>\n",
       "      <td>488</td>\n",
       "      <td>506</td>\n",
       "      <td>333</td>\n",
       "    </tr>\n",
       "    <tr>\n",
       "      <th>1</th>\n",
       "      <td>271</td>\n",
       "      <td>261</td>\n",
       "      <td>488</td>\n",
       "      <td>504</td>\n",
       "      <td>276</td>\n",
       "    </tr>\n",
       "    <tr>\n",
       "      <th>2</th>\n",
       "      <td>271</td>\n",
       "      <td>141</td>\n",
       "      <td>325</td>\n",
       "      <td>545</td>\n",
       "      <td>266</td>\n",
       "    </tr>\n",
       "    <tr>\n",
       "      <th>3</th>\n",
       "      <td>268</td>\n",
       "      <td>136</td>\n",
       "      <td>324</td>\n",
       "      <td>1946</td>\n",
       "      <td>331</td>\n",
       "    </tr>\n",
       "    <tr>\n",
       "      <th>4</th>\n",
       "      <td>273</td>\n",
       "      <td>136</td>\n",
       "      <td>321</td>\n",
       "      <td>549</td>\n",
       "      <td>290</td>\n",
       "    </tr>\n",
       "    <tr>\n",
       "      <th>5</th>\n",
       "      <td>268</td>\n",
       "      <td>144</td>\n",
       "      <td>543</td>\n",
       "      <td>545</td>\n",
       "      <td>284</td>\n",
       "    </tr>\n",
       "    <tr>\n",
       "      <th>6</th>\n",
       "      <td>271</td>\n",
       "      <td>142</td>\n",
       "      <td>290</td>\n",
       "      <td>472</td>\n",
       "      <td>275</td>\n",
       "    </tr>\n",
       "    <tr>\n",
       "      <th>7</th>\n",
       "      <td>316</td>\n",
       "      <td>136</td>\n",
       "      <td>339</td>\n",
       "      <td>2162</td>\n",
       "      <td>372</td>\n",
       "    </tr>\n",
       "    <tr>\n",
       "      <th>8</th>\n",
       "      <td>268</td>\n",
       "      <td>136</td>\n",
       "      <td>286</td>\n",
       "      <td>464</td>\n",
       "      <td>263</td>\n",
       "    </tr>\n",
       "    <tr>\n",
       "      <th>9</th>\n",
       "      <td>531</td>\n",
       "      <td>409</td>\n",
       "      <td>320</td>\n",
       "      <td>470</td>\n",
       "      <td>315</td>\n",
       "    </tr>\n",
       "  </tbody>\n",
       "</table>\n",
       "</div>"
      ],
      "text/plain": [
       "   acu-edu   acadiau-ca   adrian-edu   agnesscott-edu   aims-edu\n",
       "0      396          381          488              506        333\n",
       "1      271          261          488              504        276\n",
       "2      271          141          325              545        266\n",
       "3      268          136          324             1946        331\n",
       "4      273          136          321              549        290\n",
       "5      268          144          543              545        284\n",
       "6      271          142          290              472        275\n",
       "7      316          136          339             2162        372\n",
       "8      268          136          286              464        263\n",
       "9      531          409          320              470        315"
      ]
     },
     "execution_count": 4,
     "metadata": {},
     "output_type": "execute_result"
    }
   ],
   "source": [
    "print(\"Latency of some homepages in the first timesteps\")\n",
    "df.iloc[:10,:5]"
   ]
  },
  {
   "cell_type": "code",
   "execution_count": 5,
   "metadata": {},
   "outputs": [
    {
     "data": {
      "text/plain": [
       "<matplotlib.axes._subplots.AxesSubplot at 0x230b7e1b220>"
      ]
     },
     "execution_count": 5,
     "metadata": {},
     "output_type": "execute_result"
    },
    {
     "data": {
      "image/png": "[encoded data removed]",
      "text/plain": [
       "<Figure size 432x288 with 1 Axes>"
      ]
     },
     "metadata": {
      "needs_background": "light"
     },
     "output_type": "display_data"
    }
   ],
   "source": [
    "df.iloc[:,:5].plot(title='Latency over time for a few universities')"
   ]
  },
  {
   "cell_type": "markdown",
   "metadata": {},
   "source": [
    "The dataset is transformed so as to come back to a Bernoulli problem. The reward is:\n",
    "- 1 if latency is < threshold\n",
    "- 0 if latency is > threshold\n",
    "\n",
    "for an arbitrary latency threshold.\n",
    "\n",
    "The task boils down to exploring which universities have the lowest latency and exploiting this knowledge to minimize the sum of latencies until the end of the experiment."
   ]
  },
  {
   "cell_type": "code",
   "execution_count": 6,
   "metadata": {},
   "outputs": [
    {
     "name": "stdout",
     "output_type": "stream",
     "text": [
      "Mean reward for a few arms\n"
     ]
    },
    {
     "data": {
      "text/plain": [
       "acu-edu            0.021308\n",
       " acadiau-ca        0.016899\n",
       " adrian-edu        0.131521\n",
       " agnesscott-edu    0.146216\n",
       " aims-edu          0.069067\n",
       "dtype: float64"
      ]
     },
     "execution_count": 6,
     "metadata": {},
     "output_type": "execute_result"
    }
   ],
   "source": [
    "print(\"Mean reward for a few arms\")\n",
    "(df.iloc[:,:5] > 500).astype(int).mean()"
   ]
  },
  {
   "cell_type": "code",
   "execution_count": 7,
   "metadata": {},
   "outputs": [],
   "source": [
    "def get_dataset(n_arms, n_steps=None, max_latency=None, quantile=.5, shuffle=True):\n",
    "    \"\"\"\n",
    "    return a binary dataset.\n",
    "    \n",
    "    n_arms: nb of pullable arms\n",
    "    max_latency: criteria to decide if latency is good/bad (default: inferred from quantile)\n",
    "    quantile: proportion of \"1\" labels\n",
    "    \"\"\"\n",
    "    df = pd.read_csv('data/univ-latencies/univ-latencies.txt')\n",
    "    if n_arms > df.shape[1]:\n",
    "        raise Exception(\"Please specify max %d arms\" % df.shape[1])\n",
    "    if max_latency is None:\n",
    "        max_latency = df.iloc[:,:n_arms].mean().quantile(quantile)\n",
    "    raw_vector = (df.iloc[:,:n_arms] < max_latency).astype(int)\n",
    "    if shuffle:\n",
    "        raw_vector = raw_vector.sample(frac=1)\n",
    "    if n_steps is None:\n",
    "        return raw_vector\n",
    "    if raw_vector.shape[0] > n_steps:\n",
    "        return raw_vector.iloc[:n_steps-1,:]\n",
    "    v = raw_vector.sample(n=n_steps, replace=True, random_state=42)\n",
    "    v.index = np.arange(v.shape[0])\n",
    "    return v"
   ]
  },
  {
   "cell_type": "code",
   "execution_count": 8,
   "metadata": {},
   "outputs": [],
   "source": [
    "def adversarialize(ddf, nb_episods=2):\n",
    "    ddf = ddf.copy()\n",
    "    episod_len = int(ddf.shape[0]/nb_episods)\n",
    "    #print(\"len\", ddf.shape[0], \"epilen\", episod_len)\n",
    "    for _ in range(nb_episods):\n",
    "        start = _*episod_len\n",
    "        end = min((_+1)*episod_len, ddf.shape[0])\n",
    "        #print(\"epi\", _, start, end)\n",
    "        for col in range(ddf.shape[1]):\n",
    "            ddf.iloc[start:end,col] = np.sort(ddf.iloc[start:end,col])\n",
    "            if np.random.randint(0,2) > 0:\n",
    "                ddf.iloc[start:end,col] = np.flip(ddf.iloc[start:end,col])\n",
    "    ddf.index = np.arange(ddf.shape[0])\n",
    "    return ddf"
   ]
  },
  {
   "cell_type": "code",
   "execution_count": 9,
   "metadata": {},
   "outputs": [
    {
     "data": {
      "text/plain": [
       "acu-edu            0.964732\n",
       " acadiau-ca        0.980162\n",
       " adrian-edu        0.788391\n",
       " agnesscott-edu    0.467303\n",
       " aims-edu          0.907421\n",
       "dtype: float64"
      ]
     },
     "execution_count": 9,
     "metadata": {},
     "output_type": "execute_result"
    }
   ],
   "source": [
    "get_dataset(5, quantile=.5).mean()"
   ]
  },
  {
   "cell_type": "markdown",
   "metadata": {},
   "source": [
    "# Provided Code"
   ]
  },
  {
   "cell_type": "markdown",
   "metadata": {},
   "source": [
    "## Bandit API"
   ]
  },
  {
   "cell_type": "code",
   "execution_count": 10,
   "metadata": {},
   "outputs": [],
   "source": [
    "class Bandit():\n",
    "    def __init__(self, n_arms):\n",
    "        self.n_arms = n_arms\n",
    "    def pull(self) -> int:\n",
    "        \"\"\"Choose an arm.\"\"\"\n",
    "        raise NotImplemented()\n",
    "    def feedback(self, arm: int, reward):\n",
    "        \"\"\"Process feedback\"\"\"\n",
    "        raise NotImplemented()"
   ]
  },
  {
   "cell_type": "code",
   "execution_count": 11,
   "metadata": {},
   "outputs": [],
   "source": [
    "def test_API(bandit_class):\n",
    "    bandit = bandit_class(2)\n",
    "    arm = bandit.pull()\n",
    "    assert type(arm) in (int, np.int, np.int16, np.int32, np.int64), type(arm)\n",
    "    bandit.feedback(0, 0)\n",
    "    bandit.feedback(0, 1)\n",
    "    bandit.feedback(1, 0)\n",
    "    bandit.feedback(1, 1)\n",
    "    print(bandit_class.__name__ + \" sounds correct.\")"
   ]
  },
  {
   "cell_type": "markdown",
   "metadata": {},
   "source": [
    "## Given Bandit Implems"
   ]
  },
  {
   "cell_type": "code",
   "execution_count": 12,
   "metadata": {},
   "outputs": [],
   "source": [
    "class EpsilonGreedy(Bandit):\n",
    "    def __init__(self, n_arms, epsilon=.1):\n",
    "        Bandit.__init__(self, n_arms)\n",
    "        self.epsilon = epsilon\n",
    "        self.reward_sum_per_arm = np.zeros(n_arms)\n",
    "        self.actions_per_arm = np.zeros(n_arms)\n",
    "    def pull(self) -> int:\n",
    "        unpulled_arms = [_ for _ in range(self.n_arms) if self.actions_per_arm[_] < 1]\n",
    "        if len(unpulled_arms):\n",
    "            return np.random.choice(unpulled_arms)\n",
    "        if np.random.random() < self.epsilon:\n",
    "            arm = np.random.choice(np.arange(self.n_arms))\n",
    "            return arm\n",
    "        arms_weights = self.reward_sum_per_arm / self.actions_per_arm\n",
    "        return np.argmax(arms_weights)\n",
    "    def feedback(self, arm: int, reward):\n",
    "        self.actions_per_arm[arm] += 1\n",
    "        self.reward_sum_per_arm[arm] += reward"
   ]
  },
  {
   "cell_type": "code",
   "execution_count": 13,
   "metadata": {},
   "outputs": [],
   "source": [
    "class WeightedRandomBandit(Bandit):\n",
    "    \"\"\"Play a random action according to $\\hat{X_{i,t}}$.\"\"\"\n",
    "    def __init__(self, n_arms):\n",
    "        Bandit.__init__(self, n_arms)\n",
    "        self.reward_sum_per_arm = np.zeros(n_arms)\n",
    "        self.actions_per_arm = np.zeros(n_arms)        \n",
    "    def pull(self) -> int:\n",
    "        unpulled_arms = [_ for _ in range(self.n_arms) if self.actions_per_arm[_] < 10]\n",
    "        if len(unpulled_arms):\n",
    "            return np.random.choice(unpulled_arms)\n",
    "        arms_weights = self.reward_sum_per_arm / self.actions_per_arm\n",
    "        arms_weights = arms_weights / np.sum(arms_weights)\n",
    "        return np.random.choice(self.n_arms, p=arms_weights)\n",
    "    def feedback(self, arm: int, reward):\n",
    "        self.actions_per_arm[arm] = self.actions_per_arm[arm] + 1\n",
    "        self.reward_sum_per_arm[arm] = self.reward_sum_per_arm[arm] + reward"
   ]
  },
  {
   "cell_type": "code",
   "execution_count": 14,
   "metadata": {},
   "outputs": [],
   "source": [
    "class Experiment():\n",
    "    \"\"\"Given a Bandit, run an experiment and compute regret.\"\"\"\n",
    "    \n",
    "    def __init__(self, n_arms:int, n_steps:int, adversarial:int=0):\n",
    "        # data\n",
    "        self.n_arms = n_arms\n",
    "        self.data = get_dataset(n_arms, n_steps=n_steps)\n",
    "        if adversarial > 0:\n",
    "            self.data = adversarialize(self.data, nb_episods=adversarial)\n",
    "        self.n_turns = self.data.shape[0]\n",
    "        # regret analysis variables\n",
    "        self.actions = []\n",
    "        self.rewards = []\n",
    "        self.stochastic_regrets = []\n",
    "        # algo analysis variables\n",
    "        self.actions_per_arm = np.zeros(self.n_arms)\n",
    "        self.reward_sum_per_arm = np.zeros(self.n_arms)\n",
    "        self.exploration = []\n",
    "        \n",
    "    def run(self, b: Bandit):\n",
    "        for t in range(self.data.shape[0]):\n",
    "            # bandit action\n",
    "            chosen_arm = b.pull()\n",
    "            reward = self.data.iloc[t, chosen_arm]\n",
    "            b.feedback(chosen_arm, reward)\n",
    "            # regret data gathering\n",
    "            self.actions += [chosen_arm]\n",
    "            self.actions_per_arm[chosen_arm] += 1\n",
    "            self.rewards += [reward]\n",
    "            self.stochastic_regrets += [self.data.iloc[t,self.best_arm] - reward]\n",
    "            # algo data gathering\n",
    "            self.reward_sum_per_arm[chosen_arm] += reward\n",
    "            arms_perceived_performance = self.reward_sum_per_arm / (self.actions_per_arm + 1e-9)\n",
    "            best_looking_arm = np.argmax(arms_perceived_performance)\n",
    "            is_exploration = 0 if np.abs(arms_perceived_performance[best_looking_arm] - arms_perceived_performance[chosen_arm]) < 1e-5 else 1\n",
    "            self.exploration += [is_exploration]\n",
    "        return self\n",
    "            \n",
    "    # Regret metrics\n",
    "    \n",
    "    @property\n",
    "    def best_arm(self):\n",
    "        return np.argmax(self.data.mean().values)\n",
    "    \n",
    "    @property\n",
    "    def worst_arm(self):\n",
    "        return np.argmin(self.data.mean().values)\n",
    "\n",
    "    @property\n",
    "    def delta_perf(self):\n",
    "        return self.data.iloc[:,self.best_arm].mean() - self.data.iloc[:,self.worst_arm].mean()\n",
    "    \n",
    "    @property\n",
    "    def best_arm_cumulated_reward(self):\n",
    "        return self.data.iloc[:,self.best_arm].sum()\n",
    "\n",
    "    @property\n",
    "    def best_arm_mean_reward(self):\n",
    "        return self.data.iloc[:,self.best_arm].mean()\n",
    "    \n",
    "    @property\n",
    "    def cumulated_stochastic_regret(self):\n",
    "        return self.best_arm_cumulated_reward - np.sum(self.reward_sum_per_arm)\n",
    "    \n",
    "    @property\n",
    "    def mean_reward(self):\n",
    "        return np.mean(self.rewards)\n",
    "\n",
    "    @property\n",
    "    def mean_stochastic_regret(self):\n",
    "        return self.best_arm_mean_reward - self.mean_reward\n",
    "\n",
    "    @property\n",
    "    def n_exploration_pulls(self):\n",
    "        return np.sum(self.exploration)\n",
    "\n",
    "    @property\n",
    "    def exploration_pull_ratio(self):\n",
    "        return self.n_exploration_pulls / float(self.n_turns)\n",
    "\n",
    "    def stochastic_regret_summary(self):\n",
    "        return pd.DataFrame(data={\n",
    "                'E[R]': [self.mean_stochastic_regret],\n",
    "                'E[Delta]': [self.delta_perf],\n",
    "                'Rn': [self.cumulated_stochastic_regret],\n",
    "            })\n",
    "    \n",
    "    def cumulated_regret_summary(self):\n",
    "        rng = pd.date_range('1/1/2011', periods=len(self.stochastic_regrets), freq='600s')\n",
    "        ts = pd.DataFrame(data={\n",
    "                'cumulated_stochastic_regret': np.cumsum(self.stochastic_regrets), \n",
    "                'cumulated_exploration': np.cumsum(self.exploration), \n",
    "            }, index=rng)\n",
    "        return ts\n",
    "    \n",
    "    # algorithm metrics\n",
    "    \n",
    "    def arm_plays_summary(self):\n",
    "        true_means = self.data.mean()\n",
    "        comp = pd.DataFrame(pd.concat([\n",
    "                    true_means, \n",
    "                    pd.Series(self.actions_per_arm, index=true_means.index),\n",
    "                    pd.Series(self.reward_sum_per_arm/self.actions_per_arm, index=true_means.index),\n",
    "                ], axis=1).values, columns=['true_mean_reward', 'pull_count', 'observed_mean_reward'])\n",
    "        return comp.sort_values(by='true_mean_reward')"
   ]
  },
  {
   "cell_type": "markdown",
   "metadata": {},
   "source": [
    "# Experiments"
   ]
  },
  {
   "cell_type": "markdown",
   "metadata": {},
   "source": [
    "## 1. [Warm-up] Study of Epsilon Greedy"
   ]
  },
  {
   "cell_type": "code",
   "execution_count": 78,
   "metadata": {
    "scrolled": true
   },
   "outputs": [
    {
     "data": {
      "text/html": [
       "<div>\n",
       "<style scoped>\n",
       "    .dataframe tbody tr th:only-of-type {\n",
       "        vertical-align: middle;\n",
       "    }\n",
       "\n",
       "    .dataframe tbody tr th {\n",
       "        vertical-align: top;\n",
       "    }\n",
       "\n",
       "    .dataframe thead th {\n",
       "        text-align: right;\n",
       "    }\n",
       "</style>\n",
       "<table border=\"1\" class=\"dataframe\">\n",
       "  <thead>\n",
       "    <tr style=\"text-align: right;\">\n",
       "      <th></th>\n",
       "      <th>E[R]</th>\n",
       "      <th>E[Delta]</th>\n",
       "      <th>Rn</th>\n",
       "    </tr>\n",
       "  </thead>\n",
       "  <tbody>\n",
       "    <tr>\n",
       "      <th>0</th>\n",
       "      <td>0.035035</td>\n",
       "      <td>0.991992</td>\n",
       "      <td>35.0</td>\n",
       "    </tr>\n",
       "  </tbody>\n",
       "</table>\n",
       "</div>"
      ],
      "text/plain": [
       "       E[R]  E[Delta]    Rn\n",
       "0  0.035035  0.991992  35.0"
      ]
     },
     "execution_count": 78,
     "metadata": {},
     "output_type": "execute_result"
    }
   ],
   "source": [
    "n_arms=10\n",
    "n_steps=1000\n",
    "exp = Experiment(n_arms, n_steps).run(EpsilonGreedy(n_arms))\n",
    "exp.stochastic_regret_summary()"
   ]
  },
  {
   "cell_type": "code",
   "execution_count": 25,
   "metadata": {},
   "outputs": [
    {
     "data": {
      "text/html": [
       "<div>\n",
       "<style scoped>\n",
       "    .dataframe tbody tr th:only-of-type {\n",
       "        vertical-align: middle;\n",
       "    }\n",
       "\n",
       "    .dataframe tbody tr th {\n",
       "        vertical-align: top;\n",
       "    }\n",
       "\n",
       "    .dataframe thead th {\n",
       "        text-align: right;\n",
       "    }\n",
       "</style>\n",
       "<table border=\"1\" class=\"dataframe\">\n",
       "  <thead>\n",
       "    <tr style=\"text-align: right;\">\n",
       "      <th></th>\n",
       "      <th>E[R]</th>\n",
       "      <th>E[Delta]</th>\n",
       "      <th>Rn</th>\n",
       "    </tr>\n",
       "  </thead>\n",
       "  <tbody>\n",
       "    <tr>\n",
       "      <th>0</th>\n",
       "      <td>0.117117</td>\n",
       "      <td>0.992993</td>\n",
       "      <td>117.0</td>\n",
       "    </tr>\n",
       "  </tbody>\n",
       "</table>\n",
       "</div>"
      ],
      "text/plain": [
       "       E[R]  E[Delta]     Rn\n",
       "0  0.117117  0.992993  117.0"
      ]
     },
     "execution_count": 25,
     "metadata": {},
     "output_type": "execute_result"
    }
   ],
   "source": [
    "n_arms=10\n",
    "n_steps=1000\n",
    "exp = Experiment(n_arms, n_steps).run(WeightedRandomBandit(n_arms))\n",
    "exp.stochastic_regret_summary()"
   ]
  },
  {
   "cell_type": "markdown",
   "metadata": {},
   "source": [
    "### 1.1 parameters of Epsilon Greedy"
   ]
  },
  {
   "cell_type": "code",
   "execution_count": 42,
   "metadata": {},
   "outputs": [
    {
     "data": {
      "text/plain": [
       "Text(0, 0.5, 'E[R]')"
      ]
     },
     "execution_count": 42,
     "metadata": {},
     "output_type": "execute_result"
    },
    {
     "data": {
      "image/png": "[encoded data removed]",
      "text/plain": [
       "<Figure size 432x288 with 1 Axes>"
      ]
     },
     "metadata": {
      "needs_background": "light"
     },
     "output_type": "display_data"
    }
   ],
   "source": [
    "n_arms=10\n",
    "n_steps=100\n",
    "epsilons = [.001, .01, .1, .2, .3, .5]\n",
    "mean_regrets = [\n",
    "    Experiment(n_arms, n_steps).run(EpsilonGreedy(n_arms, epsilon=eps)).stochastic_regret_summary()['E[R]'].values \n",
    "    for eps in epsilons\n",
    "]\n",
    "\n",
    "plt.semilogx(epsilons, mean_regrets)\n",
    "plt.title('Epsilon-greedy mean stoch. regret as a function of $\\epsilon$')\n",
    "plt.xlabel('$\\epsilon$')\n",
    "plt.ylabel('E[R]')"
   ]
  },
  {
   "cell_type": "markdown",
   "metadata": {},
   "source": [
    "### 1.2 Comparing regret in the stochastic case"
   ]
  },
  {
   "cell_type": "code",
   "execution_count": 43,
   "metadata": {},
   "outputs": [
    {
     "name": "stdout",
     "output_type": "stream",
     "text": [
      "E[R] CI for EpsilonGreedy : [0.00705055 0.00783433]\n",
      "E[R] CI for WeightedRandomBandit : [0.09310761 0.09336887]\n"
     ]
    }
   ],
   "source": [
    "# Experiment parameters\n",
    "n_arms = 10\n",
    "n_repeats = 30\n",
    "n_steps = 1000\n",
    "# Algos to test \n",
    "bandit_classes = [EpsilonGreedy, WeightedRandomBandit]\n",
    "bandit_params = [{'epsilon':.02}, {}]\n",
    "# Metric to evaluate performance\n",
    "stochastic_regret = defaultdict(list)\n",
    "# Run the experiments\n",
    "for _ in range(n_repeats):\n",
    "    for bandit_class, bandit_param in zip(bandit_classes, bandit_params):\n",
    "        exp = Experiment(n_arms, n_steps)\n",
    "        exp.run(bandit_class(n_arms, **bandit_param))\n",
    "        stochastic_regret[bandit_class.__name__] += [exp.mean_stochastic_regret]\n",
    "# Results\n",
    "for bandit_class in bandit_classes:\n",
    "    print(\"E[R] CI for\", bandit_class.__name__, \":\", \n",
    "          np.percentile(stochastic_regret[bandit_class.__name__], [.05, .95]))"
   ]
  },
  {
   "cell_type": "code",
   "execution_count": 18,
   "metadata": {},
   "outputs": [
    {
     "data": {
      "text/plain": [
       "0.0960960960960961"
      ]
     },
     "execution_count": 18,
     "metadata": {},
     "output_type": "execute_result"
    }
   ],
   "source": [
    "Experiment(n_arms, n_steps).run(EpsilonGreedy(n_arms)).exploration_pull_ratio"
   ]
  },
  {
   "cell_type": "code",
   "execution_count": 19,
   "metadata": {},
   "outputs": [
    {
     "data": {
      "text/html": [
       "<div>\n",
       "<style scoped>\n",
       "    .dataframe tbody tr th:only-of-type {\n",
       "        vertical-align: middle;\n",
       "    }\n",
       "\n",
       "    .dataframe tbody tr th {\n",
       "        vertical-align: top;\n",
       "    }\n",
       "\n",
       "    .dataframe thead th {\n",
       "        text-align: right;\n",
       "    }\n",
       "</style>\n",
       "<table border=\"1\" class=\"dataframe\">\n",
       "  <thead>\n",
       "    <tr style=\"text-align: right;\">\n",
       "      <th></th>\n",
       "      <th>true_mean_reward</th>\n",
       "      <th>pull_count</th>\n",
       "      <th>observed_mean_reward</th>\n",
       "    </tr>\n",
       "  </thead>\n",
       "  <tbody>\n",
       "    <tr>\n",
       "      <th>5</th>\n",
       "      <td>0.000000</td>\n",
       "      <td>14.0</td>\n",
       "      <td>0.000000</td>\n",
       "    </tr>\n",
       "    <tr>\n",
       "      <th>8</th>\n",
       "      <td>0.001001</td>\n",
       "      <td>9.0</td>\n",
       "      <td>0.000000</td>\n",
       "    </tr>\n",
       "    <tr>\n",
       "      <th>3</th>\n",
       "      <td>0.199199</td>\n",
       "      <td>11.0</td>\n",
       "      <td>0.181818</td>\n",
       "    </tr>\n",
       "    <tr>\n",
       "      <th>2</th>\n",
       "      <td>0.680681</td>\n",
       "      <td>20.0</td>\n",
       "      <td>0.750000</td>\n",
       "    </tr>\n",
       "    <tr>\n",
       "      <th>4</th>\n",
       "      <td>0.895896</td>\n",
       "      <td>14.0</td>\n",
       "      <td>0.928571</td>\n",
       "    </tr>\n",
       "    <tr>\n",
       "      <th>0</th>\n",
       "      <td>0.955956</td>\n",
       "      <td>12.0</td>\n",
       "      <td>0.833333</td>\n",
       "    </tr>\n",
       "    <tr>\n",
       "      <th>6</th>\n",
       "      <td>0.966967</td>\n",
       "      <td>16.0</td>\n",
       "      <td>0.937500</td>\n",
       "    </tr>\n",
       "    <tr>\n",
       "      <th>9</th>\n",
       "      <td>0.973974</td>\n",
       "      <td>38.0</td>\n",
       "      <td>0.973684</td>\n",
       "    </tr>\n",
       "    <tr>\n",
       "      <th>1</th>\n",
       "      <td>0.976977</td>\n",
       "      <td>843.0</td>\n",
       "      <td>0.975089</td>\n",
       "    </tr>\n",
       "    <tr>\n",
       "      <th>7</th>\n",
       "      <td>0.990991</td>\n",
       "      <td>22.0</td>\n",
       "      <td>0.954545</td>\n",
       "    </tr>\n",
       "  </tbody>\n",
       "</table>\n",
       "</div>"
      ],
      "text/plain": [
       "   true_mean_reward  pull_count  observed_mean_reward\n",
       "5          0.000000        14.0              0.000000\n",
       "8          0.001001         9.0              0.000000\n",
       "3          0.199199        11.0              0.181818\n",
       "2          0.680681        20.0              0.750000\n",
       "4          0.895896        14.0              0.928571\n",
       "0          0.955956        12.0              0.833333\n",
       "6          0.966967        16.0              0.937500\n",
       "9          0.973974        38.0              0.973684\n",
       "1          0.976977       843.0              0.975089\n",
       "7          0.990991        22.0              0.954545"
      ]
     },
     "execution_count": 19,
     "metadata": {},
     "output_type": "execute_result"
    }
   ],
   "source": [
    "Experiment(n_arms, n_steps).run(EpsilonGreedy(n_arms)).arm_plays_summary()"
   ]
  },
  {
   "cell_type": "markdown",
   "metadata": {},
   "source": [
    "### 1.3 Cumulated Regret behavior"
   ]
  },
  {
   "cell_type": "code",
   "execution_count": 20,
   "metadata": {},
   "outputs": [],
   "source": [
    "n_arms=10\n",
    "n_steps=10**4"
   ]
  },
  {
   "cell_type": "code",
   "execution_count": 21,
   "metadata": {},
   "outputs": [
    {
     "name": "stdout",
     "output_type": "stream",
     "text": [
      "     E[R]  E[Delta]     Rn\n",
      "0  0.0326    0.9933  326.0\n"
     ]
    },
    {
     "data": {
      "text/plain": [
       "<matplotlib.axes._subplots.AxesSubplot at 0x230b87850d0>"
      ]
     },
     "execution_count": 21,
     "metadata": {},
     "output_type": "execute_result"
    },
    {
     "data": {
      "image/png": "[encoded data removed]",
      "text/plain": [
       "<Figure size 432x288 with 1 Axes>"
      ]
     },
     "metadata": {
      "needs_background": "light"
     },
     "output_type": "display_data"
    }
   ],
   "source": [
    "exp = Experiment(n_arms, n_steps).run(EpsilonGreedy(n_arms, epsilon=.1))\n",
    "print(exp.stochastic_regret_summary())\n",
    "cumul_data = exp.cumulated_regret_summary()\n",
    "cumul_data['cumulated_stochastic_regret'].plot(title='Cumulated Regret over Time')"
   ]
  },
  {
   "cell_type": "code",
   "execution_count": 22,
   "metadata": {},
   "outputs": [],
   "source": [
    "class MyBandit(Bandit):\n",
    "    def __init__(self, n_arms):\n",
    "        pass\n",
    "    def pull(self) -> int:\n",
    "        return 0\n",
    "    def feedback(self, arm: int, reward):\n",
    "        pass"
   ]
  },
  {
   "cell_type": "code",
   "execution_count": null,
   "metadata": {},
   "outputs": [],
   "source": [
    "class EpsilonGreedy(Bandit):\n",
    "    def __init__(self, n_arms, epsilon=.1):\n",
    "        Bandit.__init__(self, n_arms)\n",
    "        self.epsilon = epsilon\n",
    "        self.reward_sum_per_arm = np.zeros(n_arms)\n",
    "        self.actions_per_arm = np.zeros(n_arms)\n",
    "    def pull(self) -> int:\n",
    "        unpulled_arms = [_ for _ in range(self.n_arms) if self.actions_per_arm[_] < 1]\n",
    "        if len(unpulled_arms):\n",
    "            return np.random.choice(unpulled_arms)\n",
    "        if np.random.random() < self.epsilon:\n",
    "            arm = np.random.choice(np.arange(self.n_arms))\n",
    "            return arm\n",
    "        arms_weights = self.reward_sum_per_arm / self.actions_per_arm\n",
    "        return np.argmax(arms_weights)\n",
    "    def feedback(self, arm: int, reward):\n",
    "        self.actions_per_arm[arm] += 1\n",
    "        self.reward_sum_per_arm[arm] += reward"
   ]
  },
  {
   "cell_type": "code",
   "execution_count": 89,
   "metadata": {},
   "outputs": [],
   "source": [
    "import math\n",
    "class UCB(Bandit):\n",
    "    def __init__(self, n_arms):\n",
    "        Bandit.__init__(self, n_arms)\n",
    "        self.reward_sum_per_arm = np.zeros(n_arms)\n",
    "        self.actions_per_arm = np.zeros(n_arms)\n",
    "    def pull(self) -> int:\n",
    "        unpulled_arms = [_ for _ in range(self.n_arms) if self.actions_per_arm[_] < 1]\n",
    "        t = 0\n",
    "        if len(unpulled_arms):\n",
    "            t = t+1\n",
    "            return np.random.choice(unpulled_arms)\n",
    "        \n",
    "        for i in range(0, self.n_arms):\n",
    "            if (self.actions_per_arm[i] > 0):\n",
    "                average_reward = self.reward_sum_per_arm[i] / self.actions_per_arm[i]\n",
    "                delta_i = math.sqrt(2 * math.log(t+1) / self.actions_per_arm[i])\n",
    "                upper_bound = average_reward + delta_i\n",
    "                arm = np.argmax(upper_bound)\n",
    "                return arm\n",
    "\n",
    "        arms_weights = self.reward_sum_per_arm / self.actions_per_arm\n",
    "    def feedback(self, arm: int, reward):\n",
    "        self.actions_per_arm[arm] += 1\n",
    "        self.reward_sum_per_arm[arm] += reward"
   ]
  },
  {
   "cell_type": "code",
   "execution_count": null,
   "metadata": {},
   "outputs": [],
   "source": [
    "class UCB(Bandit):\n",
    "    def __init__(self, n_arms):\n",
    "        Bandit.__init__(self, n_arms)\n",
    "        self.reward_sum_per_arm = np.zeros(n_arms)\n",
    "        self.actions_per_arm = np.zeros(n_arms)\n",
    "    def pull(self) -> int:\n",
    "        unpulled_arms = [_ for _ in range(self.n_arms) if self.actions_per_arm[_] < 1]\n",
    "        if len(unpulled_arms):\n",
    "            random_unpulled_arm = np.random.choice(unpulled_arms)\n",
    "            return random_unpulled_arm\n",
    "        exploit_incentive = self.reward_sum_per_arm / self.actions_per_arm\n",
    "        explore_incentive = np.sqrt(2*np.log(np.sum(self.actions_per_arm)) / self.actions_per_arm)\n",
    "        return np.argmax(exploit_incentive + explore_incentive)\n",
    "    def feedback(self, arm: int, reward: int):\n",
    "        assert reward in (0,1), reward\n",
    "        self.actions_per_arm[arm] = self.actions_per_arm[arm] + 1\n",
    "        self.reward_sum_per_arm[arm] = self.reward_sum_per_arm[arm] + reward\n",
    "        \n",
    "class ThompsonSampling(Bandit):\n",
    "    def __init__(self, n_arms):\n",
    "        Bandit.__init__(self, n_arms)\n",
    "        self.success_per_arm = np.zeros(n_arms)\n",
    "        self.failures_per_arm = np.zeros(n_arms)\n",
    "        self.alpha = 1 \n",
    "        self.beta = self.alpha # uniform prior\n",
    "    def pull(self) -> int:\n",
    "        arms_weights = [np.random.beta(self.alpha + self.success_per_arm, self.beta + self.failures_per_arm)]\n",
    "        return np.argmax(arms_weights)\n",
    "    def feedback(self, arm: int, reward):\n",
    "        if reward == 0:\n",
    "            self.failures_per_arm[arm] += 1\n",
    "        else:\n",
    "            self.success_per_arm[arm] += reward"
   ]
  },
  {
   "cell_type": "code",
   "execution_count": 94,
   "metadata": {},
   "outputs": [
    {
     "data": {
      "text/html": [
       "<div>\n",
       "<style scoped>\n",
       "    .dataframe tbody tr th:only-of-type {\n",
       "        vertical-align: middle;\n",
       "    }\n",
       "\n",
       "    .dataframe tbody tr th {\n",
       "        vertical-align: top;\n",
       "    }\n",
       "\n",
       "    .dataframe thead th {\n",
       "        text-align: right;\n",
       "    }\n",
       "</style>\n",
       "<table border=\"1\" class=\"dataframe\">\n",
       "  <thead>\n",
       "    <tr style=\"text-align: right;\">\n",
       "      <th></th>\n",
       "      <th>E[R]</th>\n",
       "      <th>E[Delta]</th>\n",
       "      <th>Rn</th>\n",
       "    </tr>\n",
       "  </thead>\n",
       "  <tbody>\n",
       "    <tr>\n",
       "      <th>0</th>\n",
       "      <td>0.041041</td>\n",
       "      <td>0.991992</td>\n",
       "      <td>41.0</td>\n",
       "    </tr>\n",
       "  </tbody>\n",
       "</table>\n",
       "</div>"
      ],
      "text/plain": [
       "       E[R]  E[Delta]    Rn\n",
       "0  0.041041  0.991992  41.0"
      ]
     },
     "execution_count": 94,
     "metadata": {},
     "output_type": "execute_result"
    }
   ],
   "source": [
    "n_arms=10\n",
    "n_steps=1000\n",
    "exp = Experiment(n_arms, n_steps).run(UCB(n_arms))\n",
    "exp.stochastic_regret_summary()"
   ]
  }
 ],
 "metadata": {
  "anaconda-cloud": {},
  "kernelspec": {
   "display_name": "Python 3",
   "language": "python",
   "name": "python3"
  },
  "language_info": {
   "codemirror_mode": {
    "name": "ipython",
    "version": 3
   },
   "file_extension": ".py",
   "mimetype": "text/x-python",
   "name": "python",
   "nbconvert_exporter": "python",
   "pygments_lexer": "ipython3",
   "version": "3.8.3"
  }
 },
 "nbformat": 4,
 "nbformat_minor": 1
}
